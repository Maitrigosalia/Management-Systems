{
 "cells": [
  {
   "cell_type": "code",
   "execution_count": 6,
   "id": "3c21dfc5-2977-4661-b232-0fd1b86340c6",
   "metadata": {},
   "outputs": [
    {
     "name": "stdin",
     "output_type": "stream",
     "text": [
      "1.Admin\n",
      "2.Accountant\n",
      "3.Exit\n",
      "Enter your choice 1\n"
     ]
    },
    {
     "name": "stdout",
     "output_type": "stream",
     "text": [
      "\n",
      "\n",
      "\n",
      "\n",
      "---ADMIN MENU---\n",
      "1.Add Accountant\n",
      "2.View Accountant\n",
      "3.Edit Accountant\n",
      "4.Delete Accountant\n",
      "5.Exit\n"
     ]
    },
    {
     "name": "stdin",
     "output_type": "stream",
     "text": [
      "Enter Your Choice =  2\n"
     ]
    },
    {
     "name": "stdout",
     "output_type": "stream",
     "text": [
      "-------------------\n",
      "-------------------\n",
      "\n",
      "\n",
      "\n",
      "\n",
      "---ADMIN MENU---\n",
      "1.Add Accountant\n",
      "2.View Accountant\n",
      "3.Edit Accountant\n",
      "4.Delete Accountant\n",
      "5.Exit\n"
     ]
    },
    {
     "name": "stdin",
     "output_type": "stream",
     "text": [
      "Enter Your Choice =  5\n"
     ]
    },
    {
     "name": "stdout",
     "output_type": "stream",
     "text": [
      "LogOut.....\n"
     ]
    },
    {
     "name": "stdin",
     "output_type": "stream",
     "text": [
      "1.Admin\n",
      "2.Accountant\n",
      "3.Exit\n",
      "Enter your choice 2\n"
     ]
    },
    {
     "name": "stdout",
     "output_type": "stream",
     "text": [
      "Accountant Menu\n",
      "1.Add Student\n",
      "2.View Student\n",
      "3.Edit Student\n",
      "4.Delete Student\n",
      "5.Check Due fee Amount\n",
      "6.Exit\n"
     ]
    },
    {
     "name": "stdin",
     "output_type": "stream",
     "text": [
      "Enter your choice = 2\n"
     ]
    },
    {
     "name": "stdout",
     "output_type": "stream",
     "text": [
      "Accountant Menu\n",
      "1.Add Student\n",
      "2.View Student\n",
      "3.Edit Student\n",
      "4.Delete Student\n",
      "5.Check Due fee Amount\n",
      "6.Exit\n"
     ]
    },
    {
     "name": "stdin",
     "output_type": "stream",
     "text": [
      "Enter your choice = 6\n"
     ]
    },
    {
     "name": "stdout",
     "output_type": "stream",
     "text": [
      "LogOut.....\n"
     ]
    },
    {
     "name": "stdin",
     "output_type": "stream",
     "text": [
      "1.Admin\n",
      "2.Accountant\n",
      "3.Exit\n",
      "Enter your choice 3\n"
     ]
    },
    {
     "name": "stdout",
     "output_type": "stream",
     "text": [
      "Have a good day!!\n"
     ]
    }
   ],
   "source": [
    "import mysql.connector as m\n",
    "db=m.connect(host='localhost',user='root',passwd='root')\n",
    "cur=db.cursor()\n",
    "#cur.execute(\"drop database Fee_Management\")\n",
    "cur.execute(\"create database if not exists Fee_Management\")\n",
    "cur.execute(\"use Fee_Management\")\n",
    "cur.execute(\"\"\"create table if not exists Admin(id int AUTO_INCREMENT primary key,\n",
    "    admin_id varchar(50) not null unique,\n",
    "    password varchar(255) not null)\n",
    "    \"\"\")\n",
    "\n",
    "cur.execute(\"\"\"create table if not exists Accountant(id int AUTO_INCREMENT primary key,\n",
    "            username varchar(50) not null unique,\n",
    "            ps varchar(255) not null)\n",
    "            \"\"\")\n",
    "\n",
    "\n",
    "cur.execute(\"\"\"create table if not exists Student(id int AUTO_INCREMENT primary key,\n",
    "    name varchar(50) not null unique,\n",
    "    fee_amount decimal(10,2) not null\n",
    "    )\"\"\")\n",
    "\n",
    "def admin_menu():\n",
    "    while True:\n",
    "        print(\"\\n\"*3)\n",
    "        print(\"---ADMIN MENU---\")\n",
    "        print(\"1.Add Accountant\\n2.View Accountant\\n3.Edit Accountant\\n4.Delete Accountant\\n5.Exit\")\n",
    "        ch=input(\"Enter Your Choice = \")\n",
    "        if ch==\"1\":\n",
    "            un=input(\"Enter Account username = \")\n",
    "            pw=input(\"Enter Account Password = \")\n",
    "            cur.execute(\"insert into Admin (admin_id,password) values ('\"+un+\"','\"+pw+\"')\")\n",
    "            db.commit()\n",
    "            print(\"---New Accountant Added---\")\n",
    "        elif ch==\"2\":\n",
    "            cur.execute(\"select * from Admin\")\n",
    "            print(\"-------------------\")\n",
    "            \n",
    "            for i in cur:\n",
    "                print(i)\n",
    "            \n",
    "            print(\"-------------------\")\n",
    "        elif ch==\"3\": \n",
    "            accid=int(input(\"Enter accountant id which you want to edit\"))\n",
    "            name=input(\"Enter new accountant name\")\n",
    "            pw=input(\"Enter new password\")\n",
    "            cur.execute(\"update Admin set admin_id='\"+name+\"' where id='\"+str(accid)+\"'\")\n",
    "            cur.execute(\"update Admin set password='\"+pw+\"' where id='\"+str(accid)+\"'\")\n",
    "            db.commit()\n",
    "            print(\"Successfully Edited\")\n",
    "        elif ch==\"4\":\n",
    "            accid=int(input(\"Enter accountant id which you want to delete\"))\n",
    "            cur.execute(\"delete from Admin where id='\"+str(accid)+\"'\")\n",
    "            db.commit()\n",
    "            print(\"Successfully deleted\")\n",
    "        elif ch==\"5\":\n",
    "            print(\"LogOut.....\")\n",
    "            break\n",
    "        else:\n",
    "            print(\"----Invalid Choice----\")\n",
    "\n",
    "def accountant_menu():\n",
    "    while True:\n",
    "        print(\"Accountant Menu\")\n",
    "        print(\"1.Add Student\\n2.View Student\\n3.Edit Student\\n4.Delete Student\\n5.Check Due fee Amount\\n6.Exit\")\n",
    "        ch=input(\"Enter your choice =\")\n",
    "        if ch==\"1\":\n",
    "            name=input(\"Enter Student Name =\")\n",
    "            amt=input(\"Enter the fee amount due of Student =\")\n",
    "            cur.execute(\"insert into Student(name,fee_amount) values('\"+name+\"','\"+amt+\"')\")\n",
    "            db.commit()\n",
    "            print(\"New Student Added\")\n",
    "        elif ch==\"2\":\n",
    "            cur.execute(\"select * from Student\")\n",
    "            for i in cur:\n",
    "                print(i)\n",
    "        elif ch==\"3\":\n",
    "            stid=int(input(\"Enter student id which you want to edit\"))\n",
    "            name=input(\"Enter new student name\")\n",
    "            pw=input(\"Enter new password\")\n",
    "            cur.execute(\"update Student set username='\"+name+\"' where id='\"+str(stid)+\"'\")\n",
    "            cur.execute(\"update Student set ps='\"+pw+\"' where id='\"+str(stid)+\"'\")\n",
    "            db.commit()\n",
    "        elif ch==\"4\":\n",
    "            stid=int(input(\"Enter student id which you want to delete\"))\n",
    "            cur.execute(\"delete from Student where id='\"+str(stid)+\"'\")\n",
    "            db.commit()\n",
    "            print(\"Successfully deleted\")\n",
    "        elif ch==\"5\":\n",
    "            stid=int(input(\"Enter student's id whom you want to check due fee amount = \"))\n",
    "            cur.execute(\"select * from Student where id='\"+str(stid)+\"' \")\n",
    "\n",
    "            print(\"--- Due amount of student ---\")\n",
    "            for i in cur:\n",
    "                print(i)\n",
    "            db.commit()            \n",
    "        elif ch==\"6\":\n",
    "            print(\"LogOut.....\")\n",
    "            break\n",
    "        else:\n",
    "            print(\"----Invalid Choice----\")\n",
    "            \n",
    "def login():\n",
    "    while True:\n",
    "        ut=input(\"1.Admin\\n2.Accountant\\n3.Exit\\nEnter your choice\")\n",
    "        if ut==\"1\":\n",
    "            admin_menu()\n",
    "        elif ut==\"2\":\n",
    "            accountant_menu()\n",
    "        elif ut==\"3\":\n",
    "            print(\"Have a good day!!\")\n",
    "            break\n",
    "login()\n",
    "\n",
    "\n"
   ]
  },
  {
   "cell_type": "code",
   "execution_count": null,
   "id": "26bef473-88a0-4ba5-a82e-1f0a86f5cb36",
   "metadata": {},
   "outputs": [],
   "source": []
  }
 ],
 "metadata": {
  "kernelspec": {
   "display_name": "Python 3 (ipykernel)",
   "language": "python",
   "name": "python3"
  },
  "language_info": {
   "codemirror_mode": {
    "name": "ipython",
    "version": 3
   },
   "file_extension": ".py",
   "mimetype": "text/x-python",
   "name": "python",
   "nbconvert_exporter": "python",
   "pygments_lexer": "ipython3",
   "version": "3.12.4"
  }
 },
 "nbformat": 4,
 "nbformat_minor": 5
}
