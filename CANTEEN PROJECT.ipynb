{
 "cells": [
  {
   "cell_type": "code",
   "execution_count": 24,
   "id": "11fb91ca-b471-43e4-9882-7a7b9db5475f",
   "metadata": {},
   "outputs": [
    {
     "name": "stdout",
     "output_type": "stream",
     "text": [
      "Successfully Table Created\n",
      "Welcome to A & C College Canteen\n"
     ]
    },
    {
     "name": "stdin",
     "output_type": "stream",
     "text": [
      "1.Admin\n",
      "2.User\n",
      "3.Exit\n",
      "Enter your choice : 1\n",
      "1.Add\n",
      "2.Display\n",
      "3.Update\n",
      "4.Delete\n",
      "5.Exit\n",
      "Enter your choice = 1\n",
      "Enter item number 1\n",
      "Enter item name burger\n",
      "Enter item price 60\n",
      "Enter item quantity 75\n"
     ]
    },
    {
     "name": "stdout",
     "output_type": "stream",
     "text": [
      "Item Added Successfully\n"
     ]
    },
    {
     "name": "stdin",
     "output_type": "stream",
     "text": [
      "1.Add\n",
      "2.Display\n",
      "3.Update\n",
      "4.Delete\n",
      "5.Exit\n",
      "Enter your choice = 1\n",
      "Enter item number 2\n",
      "Enter item name dosa\n",
      "Enter item price 89\n",
      "Enter item quantity 55\n"
     ]
    },
    {
     "name": "stdout",
     "output_type": "stream",
     "text": [
      "Item Added Successfully\n"
     ]
    },
    {
     "name": "stdin",
     "output_type": "stream",
     "text": [
      "1.Add\n",
      "2.Display\n",
      "3.Update\n",
      "4.Delete\n",
      "5.Exit\n",
      "Enter your choice = 1\n",
      "Enter item number 3\n",
      "Enter item name idli\n",
      "Enter item price 66\n",
      "Enter item quantity 78\n"
     ]
    },
    {
     "name": "stdout",
     "output_type": "stream",
     "text": [
      "Item Added Successfully\n"
     ]
    },
    {
     "name": "stdin",
     "output_type": "stream",
     "text": [
      "1.Add\n",
      "2.Display\n",
      "3.Update\n",
      "4.Delete\n",
      "5.Exit\n",
      "Enter your choice = 1\n",
      "Enter item number 4\n",
      "Enter item name sandwich\n",
      "Enter item price 69\n",
      "Enter item quantity 78\n"
     ]
    },
    {
     "name": "stdout",
     "output_type": "stream",
     "text": [
      "Item Added Successfully\n"
     ]
    },
    {
     "name": "stdin",
     "output_type": "stream",
     "text": [
      "1.Add\n",
      "2.Display\n",
      "3.Update\n",
      "4.Delete\n",
      "5.Exit\n",
      "Enter your choice = 1\n",
      "Enter item number 5\n",
      "Enter item name frankie\n",
      "Enter item price 55\n",
      "Enter item quantity 40\n"
     ]
    },
    {
     "name": "stdout",
     "output_type": "stream",
     "text": [
      "Item Added Successfully\n"
     ]
    },
    {
     "name": "stdin",
     "output_type": "stream",
     "text": [
      "1.Add\n",
      "2.Display\n",
      "3.Update\n",
      "4.Delete\n",
      "5.Exit\n",
      "Enter your choice = 2\n"
     ]
    },
    {
     "name": "stdout",
     "output_type": "stream",
     "text": [
      "(1, 'burger', 60, 75)\n",
      "(2, 'dosa', 89, 55)\n",
      "(3, 'idli', 66, 78)\n",
      "(4, 'sandwich', 69, 78)\n",
      "(5, 'frankie', 55, 40)\n"
     ]
    },
    {
     "name": "stdin",
     "output_type": "stream",
     "text": [
      "1.Add\n",
      "2.Display\n",
      "3.Update\n",
      "4.Delete\n",
      "5.Exit\n",
      "Enter your choice = 3\n",
      "Enter item number where you want to update 1\n",
      "Enter item name fries\n",
      "Enter item price 50\n",
      "Enter item quantity 66\n"
     ]
    },
    {
     "name": "stdout",
     "output_type": "stream",
     "text": [
      "Item Updated successfully\n",
      "(1, 'fries', 50, 66)\n",
      "(2, 'dosa', 89, 55)\n",
      "(3, 'idli', 66, 78)\n",
      "(4, 'sandwich', 69, 78)\n",
      "(5, 'frankie', 55, 40)\n"
     ]
    },
    {
     "name": "stdin",
     "output_type": "stream",
     "text": [
      "1.Add\n",
      "2.Display\n",
      "3.Update\n",
      "4.Delete\n",
      "5.Exit\n",
      "Enter your choice = 4\n",
      "Enter item number you want to delete 3\n"
     ]
    },
    {
     "name": "stdout",
     "output_type": "stream",
     "text": [
      "Successfully Deleted\n",
      "(1, 'fries', 50, 66)\n",
      "(2, 'dosa', 89, 55)\n",
      "(4, 'sandwich', 69, 78)\n",
      "(5, 'frankie', 55, 40)\n"
     ]
    },
    {
     "name": "stdin",
     "output_type": "stream",
     "text": [
      "1.Add\n",
      "2.Display\n",
      "3.Update\n",
      "4.Delete\n",
      "5.Exit\n",
      "Enter your choice = 5\n"
     ]
    },
    {
     "name": "stdout",
     "output_type": "stream",
     "text": [
      "Exit\n"
     ]
    },
    {
     "name": "stdin",
     "output_type": "stream",
     "text": [
      "1.Admin\n",
      "2.User\n",
      "3.Exit\n",
      "Enter your choice : 2\n",
      "1.Display Menu\n",
      "2.Order item\n",
      "3.Exit\n",
      "Enter your choice = 1\n"
     ]
    },
    {
     "name": "stdout",
     "output_type": "stream",
     "text": [
      "(1, 'fries', 50, 66)\n",
      "(2, 'dosa', 89, 55)\n",
      "(4, 'sandwich', 69, 78)\n",
      "(5, 'frankie', 55, 40)\n"
     ]
    },
    {
     "name": "stdin",
     "output_type": "stream",
     "text": [
      "1.Display Menu\n",
      "2.Order item\n",
      "3.Exit\n",
      "Enter your choice = 2\n",
      "Enter your name : Maitri\n",
      "Enter the ordered item no : 1\n",
      "Enter Quantity to be ordered : 2\n",
      "Enter Price of the ordered menu : 50\n"
     ]
    },
    {
     "name": "stdout",
     "output_type": "stream",
     "text": [
      "Order placed Successfully\n",
      "Total Bill Amount = 100\n",
      "Thank You Visit Again\n"
     ]
    },
    {
     "name": "stdin",
     "output_type": "stream",
     "text": [
      "1.Display Menu\n",
      "2.Order item\n",
      "3.Exit\n",
      "Enter your choice = 3\n"
     ]
    },
    {
     "name": "stdout",
     "output_type": "stream",
     "text": [
      "Exit\n"
     ]
    },
    {
     "name": "stdin",
     "output_type": "stream",
     "text": [
      "1.Admin\n",
      "2.User\n",
      "3.Exit\n",
      "Enter your choice : 3\n"
     ]
    },
    {
     "name": "stdout",
     "output_type": "stream",
     "text": [
      "Exit, Have a Good Day !!\n"
     ]
    }
   ],
   "source": [
    "import mysql.connector as m\n",
    "db=m.connect(host='localhost',user='root',passwd='root')\n",
    "cur=db.cursor()\n",
    "#cur.execute(\"drop database College\")\n",
    "cur.execute(\"create database if not exists College\")\n",
    "cur.execute(\"use College\")\n",
    "cur.execute(\"create table if not exists Admins(item_no int primary key,item_name varchar(30),item_price int,item_quantity int)\")\n",
    "cur.execute(\"create table if not exists Orders2(name varchar(50) primary key,item_name varchar(30),item_price int,item_quantity int,Total_bill int)\")\n",
    "print(\"Successfully Table Created\")\n",
    "\n",
    "def Admin():\n",
    "    no=int(input(\"Enter item number\"))\n",
    "    name=input(\"Enter item name\")\n",
    "    p=int(input(\"Enter item price\"))\n",
    "    qut=int(input(\"Enter item quantity\"))\n",
    "    cur.execute(\"insert into Admins values('\"+str(no)+\"','\"+name+\"','\"+str(p)+\"','\"+str(qut)+\"')\")\n",
    "    db.commit()\n",
    "    print(\"Item Added Successfully\")\n",
    "def DisplayAdmin():\n",
    "    cur.execute(\"select * from Admins\")\n",
    "    for i in cur:\n",
    "        print(i)\n",
    "def UpdateAdmin():\n",
    "    n=int(input(\"Enter item number where you want to update\"))                    \n",
    "    name1=input(\"Enter item name\")\n",
    "    price=int(input(\"Enter item price\"))\n",
    "    qt=int(input(\"Enter item quantity\"))\n",
    "    cur.execute(\"update Admins set item_name='\"+name1+\"' where item_no='\"+str(n)+\"'\")\n",
    "    cur.execute(\"update Admins set item_price='\"+str(price)+\"' where item_no='\"+str(n)+\"'\")\n",
    "    cur.execute(\"update Admins set item_quantity='\"+str(qt)+\"' where item_no='\"+str(n)+\"'\")\n",
    "    db.commit()\n",
    "    cur.execute(\"select * from Admins\")\n",
    "    print(\"Item Updated successfully\")\n",
    "    for i in cur:\n",
    "        print(i)\n",
    "def Deleteitem():\n",
    "    n1=int(input(\"Enter item number you want to delete\"))            \n",
    "    cur.execute(\"delete from Admins where item_no='\"+str(n1)+\"'\")\n",
    "    db.commit()\n",
    "    cur.execute(\"select * from Admins\")\n",
    "    print(\"Successfully Deleted\")\n",
    "    for i in cur:\n",
    "        print(i)\n",
    "\n",
    "def User():\n",
    "    cur.execute(\"select * from Admins\")\n",
    "    for i in cur:\n",
    "        print(i)\n",
    "def Order():\n",
    "    o=input(\"Enter your name :\")\n",
    "    o1=input(\"Enter the ordered item no :\")\n",
    "    o2=int(input(\"Enter Quantity to be ordered :\"))\n",
    "    p=int(input(\"Enter Price of the ordered menu :\"))\n",
    "    print(\"Order placed Successfully\")\n",
    "    b= o2 * p\n",
    "    print(\"Total Bill Amount =\",b)\n",
    "    cur.execute(\"insert into Orders2 values('\"+o+\"','\"+o1+\"','\"+str(o2)+\"','\"+str(p)+\"','\"+str(b)+\"')\")\n",
    "    print(\"Thank You Visit Again\")\n",
    "    db.commit()            \n",
    "    for i in cur:\n",
    "        print(i)\n",
    "    \n",
    "print(\"Welcome to A & C College Canteen\")\n",
    "while True:\n",
    "    ch=int(input(\"1.Admin\\n2.User\\n3.Exit\\nEnter your choice :\"))\n",
    "    if ch==1:\n",
    "        while True:\n",
    "            c=int(input(\"1.Add\\n2.Display\\n3.Update\\n4.Delete\\n5.Exit\\nEnter your choice =\"))\n",
    "            if c==1:\n",
    "                Admin()\n",
    "            elif c==2:\n",
    "                DisplayAdmin()\n",
    "            elif c==3:\n",
    "                UpdateAdmin()            \n",
    "            elif c==4:\n",
    "                Deleteitem()            \n",
    "            elif c==5:\n",
    "                print(\"Exit\")\n",
    "                break\n",
    "               \n",
    "    elif ch==2:\n",
    "        while True:\n",
    "            n=int(input(\"1.Display Menu\\n2.Order item\\n3.Exit\\nEnter your choice =\"))\n",
    "            if n==1:\n",
    "                User()\n",
    "            elif n==2:\n",
    "                Order()           \n",
    "            elif n==3:\n",
    "                print(\"Exit\")\n",
    "                break            \n",
    "    elif ch==3:\n",
    "        print(\"Exit, Have a Good Day !!\")\n",
    "        break\n",
    "            "
   ]
  },
  {
   "cell_type": "code",
   "execution_count": null,
   "id": "cf01da98-dfe3-4eec-8b63-f7946f0eef1b",
   "metadata": {},
   "outputs": [],
   "source": []
  },
  {
   "cell_type": "code",
   "execution_count": null,
   "id": "e937ab0c-b389-436e-afcb-bf7735ae8106",
   "metadata": {},
   "outputs": [],
   "source": []
  },
  {
   "cell_type": "code",
   "execution_count": null,
   "id": "e4bb8b81-2552-4e9e-9752-8a21df89d536",
   "metadata": {},
   "outputs": [],
   "source": []
  },
  {
   "cell_type": "code",
   "execution_count": null,
   "id": "dabc8b49-979f-466b-9b87-5e8546848065",
   "metadata": {},
   "outputs": [],
   "source": []
  }
 ],
 "metadata": {
  "kernelspec": {
   "display_name": "Python 3 (ipykernel)",
   "language": "python",
   "name": "python3"
  },
  "language_info": {
   "codemirror_mode": {
    "name": "ipython",
    "version": 3
   },
   "file_extension": ".py",
   "mimetype": "text/x-python",
   "name": "python",
   "nbconvert_exporter": "python",
   "pygments_lexer": "ipython3",
   "version": "3.12.4"
  }
 },
 "nbformat": 4,
 "nbformat_minor": 5
}
