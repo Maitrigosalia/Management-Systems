{
 "cells": [
  {
   "cell_type": "code",
   "execution_count": 5,
   "id": "5abec41e-3aba-4448-8bdc-d7027a2ef439",
   "metadata": {},
   "outputs": [
    {
     "name": "stdin",
     "output_type": "stream",
     "text": [
      "1.Admin\n",
      "2.User\n",
      "3.Exit\n",
      "Enter your choice= 1\n"
     ]
    },
    {
     "name": "stdout",
     "output_type": "stream",
     "text": [
      "select your choice\n"
     ]
    },
    {
     "name": "stdin",
     "output_type": "stream",
     "text": [
      "1.Add item\n",
      "2.Update item\n",
      "3.View item\n",
      "4.Delete item\n",
      "5.Exit\n",
      "Enter your choice= 1\n",
      "Enter item number : 1\n",
      "Enter item name : journal book\n",
      "Enter item price : 80\n",
      "Enter quantity : 41\n"
     ]
    },
    {
     "name": "stdout",
     "output_type": "stream",
     "text": [
      "Item added successfully\n"
     ]
    },
    {
     "name": "stdin",
     "output_type": "stream",
     "text": [
      "1.Add item\n",
      "2.Update item\n",
      "3.View item\n",
      "4.Delete item\n",
      "5.Exit\n",
      "Enter your choice= 1\n",
      "Enter item number : 2\n",
      "Enter item name : cake colors\n",
      "Enter item price : 69\n",
      "Enter quantity : 51\n"
     ]
    },
    {
     "name": "stdout",
     "output_type": "stream",
     "text": [
      "Item added successfully\n"
     ]
    },
    {
     "name": "stdin",
     "output_type": "stream",
     "text": [
      "1.Add item\n",
      "2.Update item\n",
      "3.View item\n",
      "4.Delete item\n",
      "5.Exit\n",
      "Enter your choice= 1\n",
      "Enter item number : 3\n",
      "Enter item name : sketch pens\n",
      "Enter item price : 49\n",
      "Enter quantity : 52\n"
     ]
    },
    {
     "name": "stdout",
     "output_type": "stream",
     "text": [
      "Item added successfully\n"
     ]
    },
    {
     "name": "stdin",
     "output_type": "stream",
     "text": [
      "1.Add item\n",
      "2.Update item\n",
      "3.View item\n",
      "4.Delete item\n",
      "5.Exit\n",
      "Enter your choice= 3\n"
     ]
    },
    {
     "name": "stdout",
     "output_type": "stream",
     "text": [
      "(1, 'journal book', 80, 41)\n",
      "(2, 'cake colors', 69, 51)\n",
      "(3, 'sketch pens', 49, 52)\n"
     ]
    },
    {
     "name": "stdin",
     "output_type": "stream",
     "text": [
      "1.Add item\n",
      "2.Update item\n",
      "3.View item\n",
      "4.Delete item\n",
      "5.Exit\n",
      "Enter your choice= 2\n",
      "Enter item number you want to update : 1\n",
      "Enter item name: NCERT textbook\n",
      "Enter item price: 75\n",
      "Enter item quantity: 52\n"
     ]
    },
    {
     "name": "stdout",
     "output_type": "stream",
     "text": [
      "item updated successfully\n",
      "(1, 'NCERT textbook', 75, 52)\n",
      "(2, 'cake colors', 69, 51)\n",
      "(3, 'sketch pens', 49, 52)\n"
     ]
    },
    {
     "name": "stdin",
     "output_type": "stream",
     "text": [
      "1.Add item\n",
      "2.Update item\n",
      "3.View item\n",
      "4.Delete item\n",
      "5.Exit\n",
      "Enter your choice= 4\n",
      "Enter item number you want to delete 1\n"
     ]
    },
    {
     "name": "stdout",
     "output_type": "stream",
     "text": [
      "Successfully deleted\n",
      "(2, 'cake colors', 69, 51)\n",
      "(3, 'sketch pens', 49, 52)\n"
     ]
    },
    {
     "name": "stdin",
     "output_type": "stream",
     "text": [
      "1.Add item\n",
      "2.Update item\n",
      "3.View item\n",
      "4.Delete item\n",
      "5.Exit\n",
      "Enter your choice= 5\n",
      "1.Admin\n",
      "2.User\n",
      "3.Exit\n",
      "Enter your choice= 2\n"
     ]
    },
    {
     "name": "stdout",
     "output_type": "stream",
     "text": [
      "Select your choice\n"
     ]
    },
    {
     "name": "stdin",
     "output_type": "stream",
     "text": [
      "1.Display\n",
      "2.Order\n",
      "3.Exit\n",
      "Enter your choice= 1\n"
     ]
    },
    {
     "name": "stdout",
     "output_type": "stream",
     "text": [
      "(2, 'cake colors', 69, 51)\n",
      "(3, 'sketch pens', 49, 52)\n"
     ]
    },
    {
     "name": "stdin",
     "output_type": "stream",
     "text": [
      "1.Display\n",
      "2.Order\n",
      "3.Exit\n",
      "Enter your choice= 2\n",
      "Enter your name : maitri\n",
      "Enter product name : cake colors\n",
      "Enter price : 59\n",
      "Enter quantity : 4\n"
     ]
    },
    {
     "name": "stdout",
     "output_type": "stream",
     "text": [
      "Your order has been placed\n",
      "Bill amount = 236\n"
     ]
    },
    {
     "name": "stdin",
     "output_type": "stream",
     "text": [
      "1.Display\n",
      "2.Order\n",
      "3.Exit\n",
      "Enter your choice= 3\n",
      "1.Admin\n",
      "2.User\n",
      "3.Exit\n",
      "Enter your choice= 3\n"
     ]
    },
    {
     "name": "stdout",
     "output_type": "stream",
     "text": [
      "Have a good day\n"
     ]
    }
   ],
   "source": [
    "import mysql.connector as m\n",
    "db=m.connect(host='localhost',user='root',passwd='root')\n",
    "cur=db.cursor()\n",
    "#cur.execute(\"drop database Vidhyarthi\")\n",
    "cur.execute(\"create database if not exists Vidhyarthi\")\n",
    "cur.execute(\"use Vidhyarthi\")\n",
    "cur.execute(\"create table if not exists ADM(p_no int primary key,p_name varchar(30),p_price int,p_qut int)\")\n",
    "cur.execute(\"create table if not exists ORD(name varchar(30) primary key,p_name varchar(30),p_price int,p_qty int,total_bill int)\")\n",
    "\n",
    "def Admin():\n",
    "    print(\"select your choice\")\n",
    "def Add():\n",
    "    no=int(input(\"Enter item number :\"))\n",
    "    n=input(\"Enter item name :\")\n",
    "    p=int(input(\"Enter item price :\"))\n",
    "    q=int(input(\"Enter quantity :\"))\n",
    "    cur.execute(\"insert into ADM values('\"+str(no)+\"','\"+n+\"','\"+str(p)+\"','\"+str(q)+\"')\")\n",
    "    db.commit()\n",
    "    print(\"Item added successfully\")\n",
    "    \n",
    "def Update(): \n",
    "    no=int(input(\"Enter item number you want to update :\"))\n",
    "    name=input(\"Enter item name:\")\n",
    "    p=int(input(\"Enter item price:\"))\n",
    "    q=int(input(\"Enter item quantity:\"))\n",
    "    cur.execute(\"update ADM set p_name='\"+name+\"' where p_no='\"+str(no)+\"'\")\n",
    "    cur.execute(\"update ADM set p_price='\"+str(p)+\"' where p_no='\"+str(no)+\"'\")\n",
    "    cur.execute(\"update ADM set p_qut='\"+str(q)+\"' where p_no='\"+str(no)+\"'\")\n",
    "    db.commit()\n",
    "    cur.execute(\"select * from ADM\")\n",
    "    print(\"item updated successfully\")\n",
    "    for i in cur:\n",
    "          print(i)\n",
    "        \n",
    "def Display():        \n",
    "    cur.execute(\"select * from ADM\")    \n",
    "    for i in cur:\n",
    "        print(i)\n",
    "\n",
    "def delete():\n",
    "    n=int(input(\"Enter item number you want to delete\"))\n",
    "    cur.execute(\"delete from ADM where p_no='\"+str(n)+\"'\")\n",
    "    db.commit()\n",
    "    cur.execute(\"select * from ADM\")\n",
    "    print(\"Successfully deleted\")\n",
    "    for i in cur:\n",
    "        print(i)\n",
    "def exit():\n",
    "    print(\"Have a good day!\")\n",
    "\n",
    "def user():\n",
    "    print(\"Select your choice\")\n",
    "\n",
    "def display():\n",
    "    cur.execute(\"select * from ADM\")\n",
    "    for i in cur:\n",
    "        print(i)\n",
    "\n",
    "def order():     \n",
    "    name=input(\"Enter your name :\")\n",
    "    pname=input(\"Enter product name :\")\n",
    "    p=int(input(\"Enter price :\"))\n",
    "    q=int(input(\"Enter quantity :\"))\n",
    "    print(\"Your order has been placed\")\n",
    "    b= p * q\n",
    "    print(\"Bill amount =\",b)\n",
    "    \n",
    "    \n",
    "\n",
    "def exit():\n",
    "    print(\"Have a good day!\")\n",
    "            \n",
    "\n",
    "def login():\n",
    "    while True:\n",
    "        c=int(input(\"1.Admin\\n2.User\\n3.Exit\\nEnter your choice=\"))\n",
    "        if c==1:\n",
    "            Admin()\n",
    "            while True:\n",
    "                ch=int(input(\"1.Add item\\n2.Update item\\n3.View item\\n4.Delete item\\n5.Exit\\nEnter your choice=\"))\n",
    "                if ch==1:\n",
    "                    Add()\n",
    "                elif ch==2:\n",
    "                    Update()\n",
    "                elif ch==3:\n",
    "                    Display()\n",
    "                elif ch==4:\n",
    "                    delete()\n",
    "                elif ch==5:\n",
    "                    break\n",
    "        elif c==2:\n",
    "            user()\n",
    "            while True:\n",
    "                ch=int(input(\"1.Display\\n2.Order\\n3.Exit\\nEnter your choice=\"))\n",
    "                if ch==1:\n",
    "                    display()\n",
    "                elif ch==2:\n",
    "                    order()\n",
    "                elif ch==3:\n",
    "                    break\n",
    "        elif c==3:\n",
    "            print(\"Have a good day\")\n",
    "            break\n",
    "login()\n",
    "            \n",
    "      \n",
    "            "
   ]
  },
  {
   "cell_type": "code",
   "execution_count": null,
   "id": "c2a0d879-a04a-4ab5-9d8c-9231858dfe82",
   "metadata": {},
   "outputs": [],
   "source": []
  },
  {
   "cell_type": "code",
   "execution_count": null,
   "id": "afba0764-27c6-4a8d-97eb-1e3498c2f42e",
   "metadata": {},
   "outputs": [],
   "source": []
  }
 ],
 "metadata": {
  "kernelspec": {
   "display_name": "Python 3 (ipykernel)",
   "language": "python",
   "name": "python3"
  },
  "language_info": {
   "codemirror_mode": {
    "name": "ipython",
    "version": 3
   },
   "file_extension": ".py",
   "mimetype": "text/x-python",
   "name": "python",
   "nbconvert_exporter": "python",
   "pygments_lexer": "ipython3",
   "version": "3.12.4"
  }
 },
 "nbformat": 4,
 "nbformat_minor": 5
}
