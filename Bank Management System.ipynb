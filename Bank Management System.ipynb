{
 "cells": [
  {
   "cell_type": "code",
   "execution_count": 11,
   "id": "6df3aa13-9845-4547-b9da-45e0682c5ef5",
   "metadata": {},
   "outputs": [
    {
     "name": "stdout",
     "output_type": "stream",
     "text": [
      "Table created\n",
      "Namaste !! Welcome to National Bank!\n",
      "We hope that you are having a great day \n"
     ]
    },
    {
     "name": "stdin",
     "output_type": "stream",
     "text": [
      "1.Register\n",
      "2.Login\n",
      "3.Exit\n",
      "Enter your choice = 2\n"
     ]
    },
    {
     "name": "stdout",
     "output_type": "stream",
     "text": [
      "----Enter credentials to Login----\n"
     ]
    },
    {
     "name": "stdin",
     "output_type": "stream",
     "text": [
      "Enter username maitri\n",
      "Enter password mahavir\n"
     ]
    },
    {
     "name": "stdout",
     "output_type": "stream",
     "text": [
      "Login Successful\n"
     ]
    },
    {
     "name": "stdin",
     "output_type": "stream",
     "text": [
      "1.Display Account Details\n",
      "2.Withdraw\n",
      "3.Deposit\n",
      "4.Back to main menu\n",
      "Enter your choice = 2\n"
     ]
    },
    {
     "name": "stdout",
     "output_type": "stream",
     "text": [
      "-----WITHDRAW MONEY-----\n"
     ]
    },
    {
     "name": "stdin",
     "output_type": "stream",
     "text": [
      "Enter the amount you want to withdraw : 2000\n",
      "Enter password mahavir\n"
     ]
    },
    {
     "name": "stdout",
     "output_type": "stream",
     "text": [
      "Success the amount is withdrawn\n"
     ]
    },
    {
     "name": "stdin",
     "output_type": "stream",
     "text": [
      "1.Display Account Details\n",
      "2.Withdraw\n",
      "3.Deposit\n",
      "4.Back to main menu\n",
      "Enter your choice = 1\n"
     ]
    },
    {
     "name": "stdout",
     "output_type": "stream",
     "text": [
      "-----VIEW ACCOUNT DETAILS-----\n",
      "maitri\tmaitri@gmail.com\t6359268922\t21\tmahavir\tSavings\t5000.0\t"
     ]
    },
    {
     "name": "stdin",
     "output_type": "stream",
     "text": [
      "1.Display Account Details\n",
      "2.Withdraw\n",
      "3.Deposit\n",
      "4.Back to main menu\n",
      "Enter your choice = 4\n",
      "1.Register\n",
      "2.Login\n",
      "3.Exit\n",
      "Enter your choice = 3\n"
     ]
    },
    {
     "name": "stdout",
     "output_type": "stream",
     "text": [
      "Have a good day !!\n"
     ]
    }
   ],
   "source": [
    "import mysql.connector as m\n",
    "db=m.connect(host='localhost',user='root',passwd='root')\n",
    "cur=db.cursor()\n",
    "#cur.execute(\"drop database Bank\")\n",
    "cur.execute(\"create database if not exists Bank\")\n",
    "cur.execute(\"use Bank\")\n",
    "cur.execute(\"create table if not exists Register_user1(Username varchar(50) primary key,email varchar(50),phone numeric,age int,password varchar(30),account_type varchar(20),bal float)\")\n",
    "print(\"Table created\")\n",
    "print(\"Namaste !! Welcome to National Bank!\")\n",
    "print(\"We hope that you are having a great day \")\n",
    "\n",
    "\n",
    "def Register():\n",
    "    print(\"\\n\"*2)\n",
    "    print(\"----Please Register to continue----\")\n",
    "    unm=input(\"Enter username :\")\n",
    "    email=input(\"Enter email id :\")\n",
    "    ph=input(\"Enter phone number :\")\n",
    "    age=int(input(\"Enter age :\"))\n",
    "    ps=input(\"Enter password :\")\n",
    "    acc=input(\"Enter Account type (Savings / Current) :\")\n",
    "    bal=int(input(\"Enter your opening balance :\"))\n",
    "    cur.execute(\"insert into Register_user1 values('\"+unm+\"','\"+email+\"','\"+ph+\"','\"+str(age)+\"','\"+ps+\"','\"+acc+\"','\"+str(bal)+\"')\")\n",
    "    db.commit()\n",
    "    print(\"successfully registerd\")\n",
    "    \n",
    "    #cur.execute(\"select * from Register_user1\")\n",
    "\n",
    "\n",
    "def Login():\n",
    "    print(\"----Enter credentials to Login----\")\n",
    "    u=input(\"Enter username\")\n",
    "    p=input(\"Enter password\")\n",
    "    cur.execute(\"select * from Register_user1 where Username='\"+u+\"' and password='\"+p+\"'\")\n",
    "    ans=cur.fetchone()\n",
    "    if ans:\n",
    "        print(\"Login Successful\")\n",
    "    else:\n",
    "        print(\"Invalid Username or Password\")\n",
    "        return\n",
    "    #if ans:\n",
    "        #print(\"Login Successful \")\n",
    "    \n",
    "def view_acc():\n",
    "    print(\"-----VIEW ACCOUNT DETAILS-----\")\n",
    "    cur.execute(\"select * from Register_user1 \")\n",
    "    ans=cur.fetchone()\n",
    "        \n",
    "    for i in ans:\n",
    "        print(i,end='\\t')\n",
    "                                \n",
    "def withdraw():      \n",
    "    print(\"-----WITHDRAW MONEY-----\")\n",
    "    d=int(input(\"Enter the amount you want to withdraw :\"))\n",
    "    ps=input(\"Enter password\")\n",
    "    cur.execute(\"update Register_User1 set bal=bal-'\"+str(d)+\"' where password='\"+ps+\"'\")\n",
    "   \n",
    "    print(\"Success the amount is withdrawn\")\n",
    "   \n",
    "                    \n",
    "def deposit():\n",
    "    print(\"-----DEPOSIT MONEY-----\")\n",
    "    u=input(\"Enter username\")\n",
    "    p=input(\"Enter password\")\n",
    "   \n",
    "    w=int(input(\"Enter the amount to be deposited :\"))\n",
    "    \n",
    "    cur.execute(\"update Register_User1 set bal=bal+'\"+str(w)+\"' where username='\"+u+\"'\")\n",
    "    print(\"Data Updated Successfully....\")\n",
    "    \n",
    "def menu():\n",
    "    print(\"----BACK TO MAIN MENU----\")\n",
    "    \n",
    "        \n",
    "            #exit(0)\n",
    "    #else:\n",
    "        #print(\"Invalid ID or Password\")\n",
    "def Exit():\n",
    "    print(\"Have a good day !!\")\n",
    "    \n",
    "def login():\n",
    "    while True:\n",
    "        c=input(\"1.Register\\n2.Login\\n3.Exit\\nEnter your choice =\")\n",
    "        if c==\"1\":\n",
    "            Register()\n",
    "        elif c==\"2\":\n",
    "            Login()\n",
    "            while True:\n",
    "                ch=input(\"1.Display Account Details\\n2.Withdraw\\n3.Deposit\\n4.Back to main menu\\nEnter your choice =\")\n",
    "                if ch==\"1\":\n",
    "                    view_acc()\n",
    "                elif ch==\"2\":\n",
    "                    withdraw()\n",
    "                elif ch==\"3\":\n",
    "                    deposit()\n",
    "                elif ch==\"4\":\n",
    "                    break        \n",
    "        elif c==\"3\":\n",
    "            Exit()\n",
    "            break\n",
    "login()\n",
    "\n"
   ]
  },
  {
   "cell_type": "code",
   "execution_count": null,
   "id": "798a4191-dca7-4727-867f-48c43988c87c",
   "metadata": {},
   "outputs": [],
   "source": []
  }
 ],
 "metadata": {
  "kernelspec": {
   "display_name": "Python 3 (ipykernel)",
   "language": "python",
   "name": "python3"
  },
  "language_info": {
   "codemirror_mode": {
    "name": "ipython",
    "version": 3
   },
   "file_extension": ".py",
   "mimetype": "text/x-python",
   "name": "python",
   "nbconvert_exporter": "python",
   "pygments_lexer": "ipython3",
   "version": "3.12.4"
  }
 },
 "nbformat": 4,
 "nbformat_minor": 5
}
